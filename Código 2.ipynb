{
 "cells": [
  {
   "cell_type": "code",
   "execution_count": 2,
   "id": "9afd4873-0874-4566-b7b5-2a3e0d44b9da",
   "metadata": {},
   "outputs": [],
   "source": [
    "#Importação das bibliotecas\n",
    "import os\n",
    "from selenium import webdriver\n",
    "from selenium.webdriver.edge.service import Service\n",
    "from selenium.webdriver.edge.options import Options\n",
    "from selenium.webdriver.common.by import By\n",
    "from selenium.webdriver.support.ui import WebDriverWait\n",
    "from selenium.webdriver.support import expected_conditions as EC\n",
    "import pandas as pd\n",
    "import time"
   ]
  },
  {
   "cell_type": "code",
   "execution_count": 3,
   "id": "2d78bb5a-f5db-4fa2-a790-7c4fbac9ccdf",
   "metadata": {},
   "outputs": [],
   "source": [
    "# Definir um caminho de download personalizado para o arquivo que será baixado\n",
    "download_dir = os.path.join(os.getcwd(), \"downloads\")"
   ]
  },
  {
   "cell_type": "code",
   "execution_count": 4,
   "id": "7136c947-1897-4b02-9d2e-2b3c78a5d99f",
   "metadata": {},
   "outputs": [],
   "source": [
    "# Criar a pasta, se não existir\n",
    "os.makedirs(download_dir, exist_ok=True)"
   ]
  },
  {
   "cell_type": "code",
   "execution_count": 5,
   "id": "eb23f711-88b3-4c23-8880-fcefc71c770b",
   "metadata": {},
   "outputs": [],
   "source": [
    "# Configurações do Edge para download automático\n",
    "options = Options()\n",
    "options.add_argument(\"--inprivate\")\n",
    "prefs = {\n",
    "    \"download.default_directory\": download_dir,\n",
    "    \"download.prompt_for_download\": False,\n",
    "    \"download.directory_upgrade\": True\n",
    "}\n",
    "options.add_experimental_option(\"prefs\", prefs)\n",
    "#OBS:essa configuração corrige possíveis erros de usuário no navegador, a qual abrirá uma guia anônima."
   ]
  },
  {
   "cell_type": "code",
   "execution_count": 6,
   "id": "55f2094b-90db-4b17-9644-628a8550d7d3",
   "metadata": {},
   "outputs": [],
   "source": [
    "# Inicializa o navegador\n",
    "# Para executar essa etapa é necessário instalar o msedgedriver, segue o link \"https://developer.microsoft.com/pt-br/microsoft-edge/tools/webdriver?utm_source=chatgpt.com&form=MA13LH#downloads\"\n",
    "service = Service(\"C:/msedgedriver.exe\") #C:/msedgedriver.exe\" esse é o caminho onde está salvo o executável do driver.\n",
    "driver = webdriver.Edge(service=service, options=options)\n",
    "wait = WebDriverWait(driver, 20)"
   ]
  },
  {
   "cell_type": "code",
   "execution_count": 7,
   "id": "04461945-0396-41e3-b3fc-3f6a69cc6b6c",
   "metadata": {},
   "outputs": [],
   "source": [
    "# Navegação à página web em que serão extraídos os dados\n",
    "driver.get(\"https://www3.bcb.gov.br/ifdata/\")"
   ]
  },
  {
   "cell_type": "code",
   "execution_count": 8,
   "id": "add9c6d0-3bae-4ae5-91e4-de1c74d7f02c",
   "metadata": {},
   "outputs": [],
   "source": [
    "# Configuração de navegação na página, onde se faz necessário interação com alguns botões para se chegar na tabela em questão\n",
    "wait.until(EC.element_to_be_clickable((By.ID, \"btnDataBase\"))).click()\n",
    "wait.until(EC.element_to_be_clickable((By.XPATH, \"//a[contains(text(),'12/2024')]\"))).click()\n",
    "\n",
    "wait.until(EC.element_to_be_clickable((By.ID, \"btnTipoInst\"))).click()\n",
    "wait.until(EC.element_to_be_clickable((By.XPATH, \"//a[contains(text(),'Conglomerados Financeiros e Instituições Independentes')]\"))).click()\n",
    "\n",
    "wait.until(EC.element_to_be_clickable((By.ID, \"btnRelatorio\"))).click()\n",
    "wait.until(EC.element_to_be_clickable((By.XPATH, \"//a[contains(text(),'Resumo')]\"))).click()"
   ]
  },
  {
   "cell_type": "code",
   "execution_count": 9,
   "id": "3cf07275-2d3f-426d-ad37-0b7cb838e494",
   "metadata": {},
   "outputs": [],
   "source": [
    "# Função para esperar o carregamento da tabela e realizar o download do arquivo\n",
    "wait.until(EC.element_to_be_clickable((By.ID, \"aExportCsv\"))).click()\n",
    "#OBS:existe um botão na página para realizar o download da tabela.\n",
    "\n",
    "#Função para fechar o navegador após o download do arquivo\n",
    "driver.quit()\n",
    "\n",
    "# O código termina aqui"
   ]
  },
  {
   "cell_type": "code",
   "execution_count": 4,
   "id": "59159f0d-701e-423c-a018-42dc7237c636",
   "metadata": {},
   "outputs": [
    {
     "name": "stdout",
     "output_type": "stream",
     "text": [
      "               Instituição   Código TCB  SR TD   TC     Cidade  UF     Data  \\\n",
      "0                     ITAU  10069.0  b1  S1  C  2.0  SAO PAULO  SP  12/2024   \n",
      "1                       BB  49906.0  b1  S1  C  1.0   BRASILIA  DF  12/2024   \n",
      "2  CAIXA ECONÔMICA FEDERAL  51626.0  b1  S1  C  1.0   BRASILIA  DF  12/2024   \n",
      "3                 BRADESCO  10045.0  b1  S1  C  2.0     OSASCO  SP  12/2024   \n",
      "4                SANTANDER  30379.0  b1  S1  C  3.0  SAO PAULO  SP  12/2024   \n",
      "\n",
      "     Ativo Total Carteira de Crédito Classificada  \\\n",
      "0  2.766.166.428                    1.023.068.081   \n",
      "1  2.410.321.787                    1.100.666.419   \n",
      "2  2.026.456.971                    1.236.308.293   \n",
      "3  1.744.567.705                      718.318.598   \n",
      "4  1.369.373.832                      541.119.089   \n",
      "\n",
      "  Passivo Circulante e Exigível a Longo Prazo e Resultados de Exercícios Futuros  \\\n",
      "0                                      2.554.906.439                               \n",
      "1                                      2.228.081.320                               \n",
      "2                                      1.922.488.849                               \n",
      "3                                      1.577.375.059                               \n",
      "4                                      1.277.915.547                               \n",
      "\n",
      "       Captações Patrimônio Líquido Lucro Líquido Número de Agências  \\\n",
      "0  2.011.329.448        211.259.988    19.423.312              2.042   \n",
      "1  1.893.554.367        182.240.467    17.909.998              4.005   \n",
      "2  1.733.095.215        103.968.122     7.311.709              3.260   \n",
      "3  1.340.667.314        167.192.646    10.100.193              2.329   \n",
      "4    963.970.150         91.458.286     7.130.818              2.452   \n",
      "\n",
      "  Número de Postos de Atendimento  Unnamed: 17  \n",
      "0                           1.115          NaN  \n",
      "1                             504          NaN  \n",
      "2                             918          NaN  \n",
      "3                             916          NaN  \n",
      "4                           1.496          NaN  \n"
     ]
    }
   ],
   "source": [
    "# Somente um teste para verificar se o arquivo foi baixado corretamente\n",
    "df = pd.read_csv(\"C:/Users/relmm/WebScrapping/downloads/dados.csv\", sep=\";\")\n",
    "print(df.head())\n"
   ]
  }
 ],
 "metadata": {
  "kernelspec": {
   "display_name": "Python 3 (ipykernel)",
   "language": "python",
   "name": "python3"
  },
  "language_info": {
   "codemirror_mode": {
    "name": "ipython",
    "version": 3
   },
   "file_extension": ".py",
   "mimetype": "text/x-python",
   "name": "python",
   "nbconvert_exporter": "python",
   "pygments_lexer": "ipython3",
   "version": "3.12.7"
  }
 },
 "nbformat": 4,
 "nbformat_minor": 5
}
